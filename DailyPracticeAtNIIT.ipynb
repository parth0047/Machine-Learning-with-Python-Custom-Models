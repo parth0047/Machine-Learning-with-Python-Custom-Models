{
  "nbformat": 4,
  "nbformat_minor": 0,
  "metadata": {
    "colab": {
      "provenance": []
    },
    "kernelspec": {
      "name": "python3",
      "display_name": "Python 3"
    },
    "language_info": {
      "name": "python"
    }
  },
  "cells": [
    {
      "cell_type": "code",
      "execution_count": null,
      "metadata": {
        "colab": {
          "base_uri": "https://localhost:8080/"
        },
        "id": "XhGfw1LWD32a",
        "outputId": "e576079c-d3a2-4d5e-b26d-7e8ef09669d1"
      },
      "outputs": [
        {
          "output_type": "stream",
          "name": "stdout",
          "text": [
            "enter 1st number:=3\n",
            "enter 2st number:=4\n",
            "*\n",
            "a+b= 12\n"
          ]
        }
      ],
      "source": [
        "a=int(input(\"enter 1st number:=\"))\n",
        "b=int(input(\"enter 2st number:=\"))\n",
        "operator=input()\n",
        "match(operator):\n",
        "  case('+'):\n",
        "    print(\"a+b=\",a+b)\n",
        "  case('*'):\n",
        "    print(\"a+b=\",a*b)\n",
        "  case('-'):\n",
        "    print(\"a+b=\",a-b)\n",
        "  case('/'):\n",
        "    print(\"a+b=\",a/b)\n",
        "  case _:\n",
        "    print(\"invalid input\")"
      ]
    },
    {
      "cell_type": "markdown",
      "source": [],
      "metadata": {
        "id": "yy5ihRIz4suc"
      }
    },
    {
      "cell_type": "code",
      "source": [
        "#compound interest\n",
        "p=int(input(\"Enter the principal amount::\"))\n",
        "year=int(input(\"Enter the number of year::\"))\n",
        "print(\"considering 12%\")\n",
        "a=p*(1+12/2)\n",
        "print(a)\n"
      ],
      "metadata": {
        "colab": {
          "base_uri": "https://localhost:8080/"
        },
        "id": "1PjhflwLGB3Y",
        "outputId": "210601cd-a2eb-4839-a153-c1554e3d3b58"
      },
      "execution_count": null,
      "outputs": [
        {
          "output_type": "stream",
          "name": "stdout",
          "text": [
            "Enter the principal amount::4000\n",
            "Enter the number of year::4\n",
            "28000.0\n"
          ]
        }
      ]
    },
    {
      "cell_type": "code",
      "source": [
        "import sys\n",
        "num=int(input(\"Enter the numner:: \"))\n",
        "bol=True\n",
        "if(num == 1 ):\n",
        "  print(\"1 is neither prime nor composite\")\n",
        "  sys.exit()\n",
        "for i in range(2,num):\n",
        "  if(num % i == 0):\n",
        "    print(\"it is not a prime\")\n",
        "    bol=False\n",
        "    break\n",
        "if(bol):\n",
        "  print(\"It is a prime\")\n",
        "\n",
        "\n",
        "\n",
        "\n"
      ],
      "metadata": {
        "colab": {
          "base_uri": "https://localhost:8080/",
          "height": 159
        },
        "id": "ubreyqJYNlu7",
        "outputId": "19636eea-d555-47fe-bd7d-88c9213bd580"
      },
      "execution_count": null,
      "outputs": [
        {
          "output_type": "stream",
          "name": "stdout",
          "text": [
            "Enter the numner:: 1\n",
            "1 is neither prime nor composite\n"
          ]
        },
        {
          "output_type": "error",
          "ename": "SystemExit",
          "evalue": "",
          "traceback": [
            "An exception has occurred, use %tb to see the full traceback.\n",
            "\u001b[0;31mSystemExit\u001b[0m\n"
          ]
        },
        {
          "output_type": "stream",
          "name": "stderr",
          "text": [
            "/usr/local/lib/python3.10/dist-packages/IPython/core/interactiveshell.py:3561: UserWarning: To exit: use 'exit', 'quit', or Ctrl-D.\n",
            "  warn(\"To exit: use 'exit', 'quit', or Ctrl-D.\", stacklevel=1)\n"
          ]
        }
      ]
    },
    {
      "cell_type": "code",
      "source": [
        "l=[1,2,3,4,5]\n",
        "l[l.index(2)]=99\n",
        "print(l)"
      ],
      "metadata": {
        "colab": {
          "base_uri": "https://localhost:8080/"
        },
        "id": "Ogb-7ZWZVvhC",
        "outputId": "77d999a9-1779-48db-8705-a308f3e3f70b"
      },
      "execution_count": null,
      "outputs": [
        {
          "output_type": "stream",
          "name": "stdout",
          "text": [
            "[1, 99, 3, 4, 5]\n"
          ]
        }
      ]
    },
    {
      "cell_type": "code",
      "source": [
        "a=int(input(\"Enter the  number::\"))\n",
        "\n",
        "while(True):\n",
        "  b=int(input(\"Enter number:: \"))\n",
        "  operator = input(\"Enter the operator \")\n",
        "  if(operator == '+'):\n",
        "    a=a+b\n",
        "  elif operator == '-':\n",
        "    a=a-b\n",
        "  elif operator == '*':\n",
        "    a=a*b\n",
        "  elif operator == '-':\n",
        "    a=a-b\n",
        "  elif operator == '/':\n",
        "    a=a/b\n",
        "  choice=input(\"do you want to contiue(y/n)::\")\n",
        "  if choice == ['n','N']:\n",
        "    break\n",
        "print(a)\n",
        "\n",
        "\n",
        "\n",
        "\n",
        "\n"
      ],
      "metadata": {
        "colab": {
          "base_uri": "https://localhost:8080/"
        },
        "id": "0qwXH2QAW0lK",
        "outputId": "91bf9ee0-cddf-4849-ed37-88ed64070027"
      },
      "execution_count": null,
      "outputs": [
        {
          "name": "stdout",
          "output_type": "stream",
          "text": [
            "Enter the  number::5\n"
          ]
        }
      ]
    },
    {
      "cell_type": "markdown",
      "source": [
        "day 5th"
      ],
      "metadata": {
        "id": "PP221yJq4vqp"
      }
    },
    {
      "cell_type": "code",
      "source": [
        "#1. Write a Python function to find the kth smallest element in a list.\n",
        "user = input(\"Enther the your values comma seperated\") #[45,77,12,45,99,23]\n",
        "l=user.split(\",\")\n",
        "li=[]\n",
        "for i in l:\n",
        "  li.append(int(i))\n",
        "\n",
        "kth = int(input(\"Enter the Kth element :: \"))\n",
        "for i in range(kth):\n",
        "    p=li.index(min(li))\n",
        "    k=li.pop(p)\n",
        "print(k)"
      ],
      "metadata": {
        "colab": {
          "base_uri": "https://localhost:8080/"
        },
        "collapsed": true,
        "id": "Kk9hkFQW45GN",
        "outputId": "4d1d42c8-be1d-4c59-e3ee-a808f10877dd"
      },
      "execution_count": 8,
      "outputs": [
        {
          "output_type": "stream",
          "name": "stdout",
          "text": [
            "Enther the your values comma seperated45,77,12,45,99,23\n",
            "Enter the Kth element :: 3\n",
            "45\n"
          ]
        }
      ]
    },
    {
      "cell_type": "code",
      "source": [
        "#Write a Python function to check if a list is a palindrome or not. Return true otherwise false.\n",
        "user = input(\"Enther the your values (comma seperated):: \") #[45,77,12,45,99,23]\n",
        "l=user.split(\",\")\n",
        "print(user == user[::-1])"
      ],
      "metadata": {
        "colab": {
          "base_uri": "https://localhost:8080/"
        },
        "id": "Eul7Pkew8Puy",
        "outputId": "f29c7868-04b3-4329-8ebb-c2585e650a9c"
      },
      "execution_count": 11,
      "outputs": [
        {
          "output_type": "stream",
          "name": "stdout",
          "text": [
            "Enther the your values comma seperated22,11,22\n",
            "True\n"
          ]
        }
      ]
    },
    {
      "cell_type": "code",
      "source": [
        "#Write a Python function to reverse a list at a specific location.\n",
        "user = input(\"Enther the your values (comma seperated):: \") #[45,77,12,456,99,23]\n",
        "l=user.split(\",\")\n",
        "print(l)\n",
        "result=[]\n",
        "cut=int(input(\"Enter the break point to reverse the list\"))\n",
        "cl=l[:cut]\n",
        "cl2=l[cut:]\n",
        "result.append(cl2)\n",
        "result.append(cl)\n",
        "print(result)\n",
        "\n"
      ],
      "metadata": {
        "colab": {
          "base_uri": "https://localhost:8080/"
        },
        "id": "54KyRQB79WhR",
        "outputId": "5cfbc0c5-dbb2-4981-8c02-4bc0f6a6f5c7"
      },
      "execution_count": 17,
      "outputs": [
        {
          "output_type": "stream",
          "name": "stdout",
          "text": [
            "Enther the your values (comma seperated):: 45,77,12,456,99,23\n",
            "['45', '77', '12', '456', '99', '23']\n",
            "Enter the break point to reverse the list3\n",
            "[['456', '99', '23'], ['45', '77', '12']]\n"
          ]
        }
      ]
    },
    {
      "cell_type": "code",
      "source": [
        "#Write a Python program to find all the pairs in a list whose sum is equal to a given value.\n",
        "l=[[3, 2], [2, 4], [4, 3], [3, 3], [3, 1], [2, 1]]\n",
        "user = int(input(\"Enter the sum::: \"))\n",
        "foundnot=True\n",
        "for i in l:\n",
        "  if(user == sum(i)):\n",
        "    print(\"The sum is :: \",i)\n",
        "    found=False\n",
        "if(found):\n",
        "    print(\"Pair does not  Exsist\")\n",
        ""
      ],
      "metadata": {
        "colab": {
          "base_uri": "https://localhost:8080/"
        },
        "id": "AD79T4OnBFnf",
        "outputId": "5155af0f-d525-433f-ed1c-f99f1ab58d4f"
      },
      "execution_count": 24,
      "outputs": [
        {
          "output_type": "stream",
          "name": "stdout",
          "text": [
            "Enter the sum::: 3\n",
            "The sum is ::  [2, 1]\n"
          ]
        }
      ]
    }
  ]
}